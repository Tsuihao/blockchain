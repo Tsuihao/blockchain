{
 "cells": [
  {
   "cell_type": "markdown",
   "metadata": {},
   "source": [
    "# Module 1 - Create a Blockchain"
   ]
  },
  {
   "cell_type": "code",
   "execution_count": 1,
   "metadata": {},
   "outputs": [],
   "source": [
    "import datetime\n",
    "import hashlib\n",
    "import json\n",
    "from flask import Flask, jsonify"
   ]
  },
  {
   "cell_type": "markdown",
   "metadata": {},
   "source": [
    "# Building a Blockchain"
   ]
  },
  {
   "cell_type": "code",
   "execution_count": 2,
   "metadata": {},
   "outputs": [],
   "source": [
    "class Blockchain:\n",
    "    \n",
    "    def __init__(self):\n",
    "        self.chain = [] # list contians blocks\n",
    "        self.create_block(proof= 1, prev_hash = '0')  # create genisus block \n",
    "        \n",
    "    def create_block(self, proof, prev_hash):\n",
    "        '''\n",
    "        Create a general block\n",
    "\n",
    "        proof:\n",
    "        prev_hash:\n",
    "        '''\n",
    "        block = {} # index, timestamp, proof, prev_hash, transcations, .... a general block can add anything\n",
    "        \n",
    "        # Fill in the dict\n",
    "        block['index'] = len(self.chain) + 1\n",
    "        block['timestamp'] = str(datetime.datetime.now())\n",
    "        block['proof'] = proof\n",
    "        block['prev_hash'] = prev_hash\n",
    "        \n",
    "        self.chain.append(block)\n",
    "        return block\n",
    "    \n",
    "    def get_previous_block(self):\n",
    "        '''\n",
    "        Get the last block of the chain\n",
    "        '''\n",
    "        return self.chain[-1] \n",
    "    \n",
    "    def proof_of_work(self, prev_proof):\n",
    "        '''\n",
    "        POW\n",
    "        '''\n",
    "        new_proof = 1\n",
    "        check_proof = False\n",
    "        \n",
    "        while check_proof is False:\n",
    "\n",
    "            hash_operation = hashlib.sha256(str(new_proof**2 - prev_proof**2).encode()).hexdigest() # encode() simply add a 'b' in front of the str.          \n",
    "            \n",
    "            if hash_operation[:4] == '0000': # The more leading zeros, the harder to solve the problem, let's make it simple\n",
    "                check_proof = True\n",
    "            else:\n",
    "                new_proof += 1\n",
    "                \n",
    "        return new_proof\n",
    "        \n",
    "    def hash(self, block):\n",
    "        '''\n",
    "        Hash blocks\n",
    "        '''\n",
    "        encoded_block = json.dumps(block, sort_keys=True).encode()  #json.dumps -> just a str()\n",
    "        return hashlib.sha256(encoded_block).hexdigest()\n",
    "    \n",
    "    def is_chain_valid(self, chain):\n",
    "        '''\n",
    "        1. Check prev_hash\n",
    "        2. Check proof\n",
    "        '''\n",
    "        prev_block = chain[0] # init\n",
    "        block_index = 1 # init -> genisus block is 1\n",
    "        \n",
    "        while block_index < len(chain):\n",
    "            block = chian[block_index]\n",
    "            \n",
    "            if block['prev_hash'] != self.hash(prev_block):\n",
    "                return False\n",
    "            \n",
    "            prev_proof = prev_block['proof']\n",
    "            proof = block['proof']\n",
    "            hash_operation = hashlib.sha256(str(proof**2 - prev_proof**2).encode()).hexdigest()\n",
    "            \n",
    "            if hash_operation[:4] != '0000':\n",
    "                return False\n",
    "            \n",
    "            # Updata\n",
    "            prev_block = block\n",
    "            block_index += 1\n",
    "            \n",
    "        return True       "
   ]
  },
  {
   "cell_type": "markdown",
   "metadata": {},
   "source": [
    "# Minng our Blockchain\n"
   ]
  },
  {
   "cell_type": "markdown",
   "metadata": {},
   "source": [
    "use [Falsk](http://flask.pocoo.org/docs/1.0/quickstart/)"
   ]
  },
  {
   "cell_type": "code",
   "execution_count": 3,
   "metadata": {},
   "outputs": [],
   "source": [
    "app = Flask(__name__) # Create web app"
   ]
  },
  {
   "cell_type": "code",
   "execution_count": 4,
   "metadata": {},
   "outputs": [],
   "source": [
    "# Create block chain object\n",
    "blockchain = Blockchain()"
   ]
  },
  {
   "cell_type": "markdown",
   "metadata": {},
   "source": [
    "### Mining a new block"
   ]
  },
  {
   "cell_type": "code",
   "execution_count": 5,
   "metadata": {},
   "outputs": [],
   "source": [
    "\n",
    "@app.route('/mine_block', methods=['GET']) # Running on http://127.0.0.1:5000/\n",
    "def mine_block():\n",
    "    previous_block = blockchain.get_previous_block()\n",
    "    previous_proof = previous_block['proof']\n",
    "    proof = blockchain.proof_of_work(previous_proof)\n",
    "    previous_hash = blockchain.hash(previous_block)\n",
    "    block = blockchain.create_block(proof, previous_hash)\n",
    "    \n",
    "    response = {'message': 'Congrats! You just mined a block !',\n",
    "                'index': block['index'],\n",
    "                'timestamp': block['timestamp'],\n",
    "                'proof': block['proof'],\n",
    "                'previous_hash': block['previous_hash']}  # Return as Json format\n",
    "    \n",
    "    return jsonify(response), 200   # HTTP status code, https://en.wikipedia.org/wiki/List_of_HTTP_status_codes"
   ]
  },
  {
   "cell_type": "markdown",
   "metadata": {},
   "source": [
    "### Getting the full Blockchain"
   ]
  },
  {
   "cell_type": "code",
   "execution_count": 6,
   "metadata": {},
   "outputs": [],
   "source": [
    "@app.route('/get_chain', methods=['GET'])\n",
    "def get_chain():\n",
    "    response = {'chain': blockchain.chain,\n",
    "                'length': len(blockchain.chain)}\n",
    "    \n",
    "    return jsonify(response), 200 "
   ]
  },
  {
   "cell_type": "markdown",
   "metadata": {},
   "source": [
    "### Running the app"
   ]
  },
  {
   "cell_type": "code",
   "execution_count": null,
   "metadata": {},
   "outputs": [
    {
     "name": "stderr",
     "output_type": "stream",
     "text": [
      " * Running on http://0.0.0.0:5000/ (Press CTRL+C to quit)\n",
      "127.0.0.1 - - [10/Jul/2018 18:25:39] \"GET /get_chain HTTP/1.1\" 200 -\n",
      "[2018-07-10 18:28:07,680] ERROR in app: Exception on /mine_block [GET]\n",
      "Traceback (most recent call last):\n",
      "  File \"d:\\anaconda3\\lib\\site-packages\\flask\\app.py\", line 1982, in wsgi_app\n",
      "    response = self.full_dispatch_request()\n",
      "  File \"d:\\anaconda3\\lib\\site-packages\\flask\\app.py\", line 1614, in full_dispatch_request\n",
      "    rv = self.handle_user_exception(e)\n",
      "  File \"d:\\anaconda3\\lib\\site-packages\\flask\\app.py\", line 1517, in handle_user_exception\n",
      "    reraise(exc_type, exc_value, tb)\n",
      "  File \"d:\\anaconda3\\lib\\site-packages\\flask\\_compat.py\", line 33, in reraise\n",
      "    raise value\n",
      "  File \"d:\\anaconda3\\lib\\site-packages\\flask\\app.py\", line 1612, in full_dispatch_request\n",
      "    rv = self.dispatch_request()\n",
      "  File \"d:\\anaconda3\\lib\\site-packages\\flask\\app.py\", line 1598, in dispatch_request\n",
      "    return self.view_functions[rule.endpoint](**req.view_args)\n",
      "  File \"<ipython-input-5-1ba7d5b2e04a>\", line 6, in mine_block\n",
      "    proof = blockchain.proof_of_work(previous_proof)\n",
      "  File \"<ipython-input-2-bfa2f44a0633>\", line 42, in proof_of_work\n",
      "    if head_operation[:4] == '0000': # The more leading zeros, the harder to solve the problem, let's make it simple\n",
      "NameError: name 'head_operation' is not defined\n",
      "127.0.0.1 - - [10/Jul/2018 18:28:07] \"GET /mine_block HTTP/1.1\" 500 -\n",
      "[2018-07-10 18:28:14,465] ERROR in app: Exception on /mine_block [GET]\n",
      "Traceback (most recent call last):\n",
      "  File \"d:\\anaconda3\\lib\\site-packages\\flask\\app.py\", line 1982, in wsgi_app\n",
      "    response = self.full_dispatch_request()\n",
      "  File \"d:\\anaconda3\\lib\\site-packages\\flask\\app.py\", line 1614, in full_dispatch_request\n",
      "    rv = self.handle_user_exception(e)\n",
      "  File \"d:\\anaconda3\\lib\\site-packages\\flask\\app.py\", line 1517, in handle_user_exception\n",
      "    reraise(exc_type, exc_value, tb)\n",
      "  File \"d:\\anaconda3\\lib\\site-packages\\flask\\_compat.py\", line 33, in reraise\n",
      "    raise value\n",
      "  File \"d:\\anaconda3\\lib\\site-packages\\flask\\app.py\", line 1612, in full_dispatch_request\n",
      "    rv = self.dispatch_request()\n",
      "  File \"d:\\anaconda3\\lib\\site-packages\\flask\\app.py\", line 1598, in dispatch_request\n",
      "    return self.view_functions[rule.endpoint](**req.view_args)\n",
      "  File \"<ipython-input-5-1ba7d5b2e04a>\", line 6, in mine_block\n",
      "    proof = blockchain.proof_of_work(previous_proof)\n",
      "  File \"<ipython-input-2-bfa2f44a0633>\", line 42, in proof_of_work\n",
      "    if head_operation[:4] == '0000': # The more leading zeros, the harder to solve the problem, let's make it simple\n",
      "NameError: name 'head_operation' is not defined\n",
      "127.0.0.1 - - [10/Jul/2018 18:28:14] \"GET /mine_block HTTP/1.1\" 500 -\n"
     ]
    }
   ],
   "source": [
    "app.run(host='0.0.0.0' , port=5000)"
   ]
  },
  {
   "cell_type": "code",
   "execution_count": null,
   "metadata": {},
   "outputs": [],
   "source": []
  }
 ],
 "metadata": {
  "kernelspec": {
   "display_name": "Python [default]",
   "language": "python",
   "name": "python3"
  },
  "language_info": {
   "codemirror_mode": {
    "name": "ipython",
    "version": 3
   },
   "file_extension": ".py",
   "mimetype": "text/x-python",
   "name": "python",
   "nbconvert_exporter": "python",
   "pygments_lexer": "ipython3",
   "version": "3.6.2"
  }
 },
 "nbformat": 4,
 "nbformat_minor": 2
}
