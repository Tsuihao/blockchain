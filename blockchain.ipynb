{
 "cells": [
  {
   "cell_type": "markdown",
   "metadata": {},
   "source": [
    "# Module 1 - Create a Blockchain"
   ]
  },
  {
   "cell_type": "code",
   "execution_count": 3,
   "metadata": {},
   "outputs": [],
   "source": [
    "import datetime\n",
    "import hashlib\n",
    "import json\n",
    "from flask import Flask, jsonify"
   ]
  },
  {
   "cell_type": "markdown",
   "metadata": {},
   "source": [
    "# Building a Blockchain"
   ]
  },
  {
   "cell_type": "code",
   "execution_count": 6,
   "metadata": {},
   "outputs": [],
   "source": [
    "class Blockchain:\n",
    "    \n",
    "    def __init__(self):\n",
    "        self.chain = [] # list contians blocks\n",
    "        self.create_block(proof= 1, prev_has = '0')  # create genisus block \n",
    "        \n",
    "    def creat_block(self, proof, prev_hash):\n",
    "        '''\n",
    "        Create a general block\n",
    "\n",
    "        proof:\n",
    "        prev_hash:\n",
    "        '''\n",
    "        block = {} # index, timestamp, proof, prev_hash, transcations, .... a general block can add anything\n",
    "        \n",
    "        # Fill in the dict\n",
    "        block['index'] = len(self.chain) + 1\n",
    "        block['timestamp'] = str(datetime.datetime.now())\n",
    "        block['proof'] = proof\n",
    "        block['prev_hash'] = prev_hash\n",
    "        \n",
    "        self.chain.append(block)\n",
    "        return block\n",
    "    \n",
    "    def get_previous_block(self):\n",
    "        '''\n",
    "        Get the last block of the chain\n",
    "        '''\n",
    "        return self.chain[-1] \n",
    "    \n",
    "    def proof_of_work(self, prev_proof):\n",
    "        '''\n",
    "        POW\n",
    "        '''\n",
    "        new_proof = 1\n",
    "        check_proof = False\n",
    "        \n",
    "        while check_proof is False:\n",
    "\n",
    "            hash_operation = hashlib.sha256(str(new_proof**2 - prev_proof**2).encode()).hexdigest() # encode() simply add a 'b' in front of the str.          \n",
    "            \n",
    "            if head_operation[:4] == '0000': # The more leading zeros, the harder to solve the problem, let's make it simple\n",
    "                check_proof = True\n",
    "            else:\n",
    "                new_proof += 1\n",
    "                \n",
    "        return new_proof\n",
    "        \n",
    "    def hash(self, block):\n",
    "        '''\n",
    "        Hash blocks\n",
    "        '''\n",
    "        encoded_block = json.dumps(block, sort_keys=True).encode()  #json.dumps -> just a str()\n",
    "        return hashlib.sha256(encoded_block).hexdigest()\n",
    "    \n",
    "    def is_chain_valid(self, chain):\n",
    "        '''\n",
    "        1. Check prev_hash\n",
    "        2. Check proof\n",
    "        '''\n",
    "        prev_block = chain[0] # init\n",
    "        block_index = 1 # init -> genisus block is 1\n",
    "        \n",
    "        while block_index < len(chain):\n",
    "            block = chian[block_index]\n",
    "            \n",
    "            if block['prev_hash'] != self.hash(prev_block):\n",
    "                return False\n",
    "            \n",
    "            prev_proof = prev_block['proof']\n",
    "            proof = block['proof']\n",
    "            hash_operation = hashlib.sha256(str(proof**2 - prev_proof**2).encode()).hexdigest()\n",
    "            \n",
    "            if hash_operation[:4] != '0000':\n",
    "                return False\n",
    "            \n",
    "            # Updata\n",
    "            prev_block = block\n",
    "            block_index += 1\n",
    "            \n",
    "        return True       "
   ]
  },
  {
   "cell_type": "markdown",
   "metadata": {},
   "source": [
    "# Minng our Blockchain\n"
   ]
  },
  {
   "cell_type": "code",
   "execution_count": null,
   "metadata": {},
   "outputs": [],
   "source": []
  }
 ],
 "metadata": {
  "kernelspec": {
   "display_name": "Python [default]",
   "language": "python",
   "name": "python3"
  },
  "language_info": {
   "codemirror_mode": {
    "name": "ipython",
    "version": 3
   },
   "file_extension": ".py",
   "mimetype": "text/x-python",
   "name": "python",
   "nbconvert_exporter": "python",
   "pygments_lexer": "ipython3",
   "version": "3.6.2"
  }
 },
 "nbformat": 4,
 "nbformat_minor": 2
}
